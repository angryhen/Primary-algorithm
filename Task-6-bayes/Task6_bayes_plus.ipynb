{
 "cells": [
  {
   "cell_type": "markdown",
   "metadata": {},
   "source": [
    "## 知识点梳理\n",
    "1. 相关概念（生成模型、判别模型)\n",
    "2. 先验概率、条件概率\n",
    "3. 贝叶斯决策理论\n",
    "4. 贝叶斯定理公式\n",
    "5. 极值问题情况下的每个类的分类概率\n",
    "6. 下溢问题如何解决\n",
    "7. 零概率问题如何解决？\n",
    "8. 优缺点\n",
    "9. sklearn参数详解，Python绘制决策树\n"
   ]
  },
  {
   "cell_type": "markdown",
   "metadata": {},
   "source": [
    "### sklearn接口"
   ]
  },
  {
   "cell_type": "code",
   "execution_count": 7,
   "metadata": {
    "scrolled": false
   },
   "outputs": [
    {
     "name": "stdout",
     "output_type": "stream",
     "text": [
      "Classifier Score: 0.9666666666666667\n"
     ]
    }
   ],
   "source": [
    "from sklearn.naive_bayes import GaussianNB\n",
    "from sklearn.datasets import load_iris\n",
    "import pandas as pd\n",
    "from sklearn.model_selection import train_test_split\n",
    "\n",
    "iris = load_iris()\n",
    "X_train, X_test, y_train, y_test = train_test_split(iris.data, iris.target, test_size=0.2)\n",
    "clf = GaussianNB().fit(X_train, y_train)\n",
    "print (\"Classifier Score:\", clf.score(X_test, y_test))"
   ]
  },
  {
   "cell_type": "code",
   "execution_count": 44,
   "metadata": {},
   "outputs": [],
   "source": [
    "import math\n",
    "import numpy as np\n",
    "class NaiveBayes:\n",
    "    def __init__(self):\n",
    "        self.model = None\n",
    "\n",
    "    # 数学期望\n",
    "    @staticmethod\n",
    "    def mean(X):\n",
    "        \"\"\"计算均值\n",
    "        Param: X : list or np.ndarray\n",
    "        \n",
    "        Return:\n",
    "            avg : float\n",
    "        \n",
    "        \"\"\"\n",
    "        avg = 0.0\n",
    "        # ========= show me your code ==================\n",
    "        \n",
    "        avg = np.mean(X, axis=0)\n",
    "        \n",
    "        # ========= show me your code ==================\n",
    "        return avg\n",
    "\n",
    "    # 标准差（方差）\n",
    "    def stdev(self, X):\n",
    "        \"\"\"计算标准差\n",
    "        Param: X : list or np.ndarray\n",
    "        \n",
    "        Return:\n",
    "            res : float\n",
    "        \n",
    "        \"\"\"\n",
    "        res = 0.0\n",
    "        # ========= show me your code ==================\n",
    "\n",
    "        res = np.std(X, axis=0)\n",
    "        \n",
    "        # ========= show me your code ==================\n",
    "        return res\n",
    "        \n",
    "    # 概率密度函数\n",
    "    def gaussian_probability(self, x, mean, stdev):\n",
    "        \"\"\"根据均值和标注差计算x符号该高斯分布的概率\n",
    "        Parameters:\n",
    "        ----------\n",
    "        x : 输入\n",
    "        mean : 均值\n",
    "        stdev : 标准差\n",
    "        \n",
    "        Return:\n",
    "        \n",
    "        res : float， x符合的概率值\n",
    "            \n",
    "        \"\"\"\n",
    "        res = 0.0\n",
    "        # ========= show me your code ==================\n",
    "\n",
    "        res = np.exp(-(x - mean) ** 2 / (2 * stdev ** 2)) / (math.sqrt(2 * math.pi) * stdev)\n",
    "        \n",
    "        # ========= show me your code ==================\n",
    "        \n",
    "        return res\n",
    "        \n",
    "    # 处理X_train\n",
    "    def summarize(self, train_data):\n",
    "        \"\"\"计算每个类目下对应数据的均值和标准差\n",
    "        Param: train_data : list\n",
    "        \n",
    "        Return : [mean, stdev]\n",
    "        \"\"\"\n",
    "        summaries = [0.0, 0.0]\n",
    "        # ========= show me your code ==================\n",
    "        \n",
    "        #  summaries = [self.mean(train_data), self.stdev(train_data)]\n",
    "        summaries = [(self.mean(i), self.stdev(i)) for i in zip(*train_data)]\n",
    "        # ========= show me your code ==================\n",
    "        return summaries\n",
    "\n",
    "    # 分类别求出数学期望和标准差\n",
    "    def fit(self, X, y):\n",
    "        labels = list(set(y))\n",
    "        data = {label: [] for label in labels}\n",
    "        for f, label in zip(X, y):\n",
    "            data[label].append(f)\n",
    "        self.model = {\n",
    "            label: self.summarize(value) for label, value in data.items()\n",
    "        }\n",
    "        return 'gaussianNB train done!'\n",
    "\n",
    "    # 计算概率\n",
    "    def calculate_probabilities(self, input_data):\n",
    "        \"\"\"计算数据在各个高斯分布下的概率\n",
    "        Paramter:\n",
    "        input_data : 输入数据\n",
    "        \n",
    "        Return:\n",
    "        probabilities : {label : p}\n",
    "        \"\"\"\n",
    "        # summaries:{0.0: [(5.0, 0.37),(3.42, 0.40)], 1.0: [(5.8, 0.449),(2.7, 0.27)]}\n",
    "        # input_data:[1.1, 2.2]\n",
    "        probabilities = {}\n",
    "        # ========= show me your code ==================\n",
    "        for label, value in self.model.items():\n",
    "            probabilities[label] = 1\n",
    "            for i in range(len(value)):\n",
    "                u, std = value[i]\n",
    "                probabilities[label] *= self.gaussian_probability(input_data[i], u, std)\n",
    "            \n",
    "        # ========= show me your code ==================\n",
    "        return probabilities\n",
    "\n",
    "    # 类别\n",
    "    def predict(self, X_test):\n",
    "        # {0.0: 2.9680340789325763e-27, 1.0: 3.5749783019849535e-26}\n",
    "        label = sorted(self.calculate_probabilities(X_test).items(), key=lambda x: x[-1])[-1][0]\n",
    "        return label\n",
    "    # 计算得分\n",
    "    def score(self, X_test, y_test):\n",
    "        right = 0\n",
    "        for X, y in zip(X_test, y_test):\n",
    "            label = self.predict(X)\n",
    "            if label == y:\n",
    "                right += 1\n",
    "\n",
    "        return right / float(len(X_test))"
   ]
  },
  {
   "cell_type": "code",
   "execution_count": 45,
   "metadata": {},
   "outputs": [],
   "source": [
    "model = NaiveBayes()"
   ]
  },
  {
   "cell_type": "code",
   "execution_count": 46,
   "metadata": {},
   "outputs": [
    {
     "data": {
      "text/plain": [
       "'gaussianNB train done!'"
      ]
     },
     "execution_count": 46,
     "metadata": {},
     "output_type": "execute_result"
    }
   ],
   "source": [
    "model.fit(X_train, y_train)"
   ]
  },
  {
   "cell_type": "code",
   "execution_count": 47,
   "metadata": {},
   "outputs": [
    {
     "name": "stdout",
     "output_type": "stream",
     "text": [
      "0\n"
     ]
    }
   ],
   "source": [
    "print(model.predict([4.4,  3.2,  1.3,  0.2]))"
   ]
  },
  {
   "cell_type": "code",
   "execution_count": 48,
   "metadata": {},
   "outputs": [
    {
     "data": {
      "text/plain": [
       "0.9666666666666667"
      ]
     },
     "execution_count": 48,
     "metadata": {},
     "output_type": "execute_result"
    }
   ],
   "source": [
    "model.score(X_test, y_test)"
   ]
  }
 ],
 "metadata": {
  "kernelspec": {
   "display_name": "Python 3",
   "language": "python",
   "name": "python3"
  },
  "language_info": {
   "codemirror_mode": {
    "name": "ipython",
    "version": 3
   },
   "file_extension": ".py",
   "mimetype": "text/x-python",
   "name": "python",
   "nbconvert_exporter": "python",
   "pygments_lexer": "ipython3",
   "version": "3.6.5"
  },
  "toc": {
   "base_numbering": 1,
   "nav_menu": {},
   "number_sections": true,
   "sideBar": true,
   "skip_h1_title": false,
   "title_cell": "Table of Contents",
   "title_sidebar": "Contents",
   "toc_cell": false,
   "toc_position": {},
   "toc_section_display": true,
   "toc_window_display": false
  }
 },
 "nbformat": 4,
 "nbformat_minor": 2
}
